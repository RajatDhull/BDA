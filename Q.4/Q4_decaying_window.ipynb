{
 "cells": [
  {
   "cell_type": "code",
   "execution_count": 25,
   "metadata": {},
   "outputs": [],
   "source": [
    "import praw\n",
    "from datetime import datetime, timedelta, timezone\n",
    "import math"
   ]
  },
  {
   "cell_type": "code",
   "execution_count": 26,
   "metadata": {
    "tags": [
     "parameters"
    ]
   },
   "outputs": [],
   "source": [
    "client_id = \"e8O8uDpRkFbES6y2ZA9XwQ\"\n",
    "client_secret=\"5LSSWHnkHVM5-BIkxpgYlu8fKIqnzw\"\n",
    "user_agent = \"Decaying Window\""
   ]
  },
  {
   "cell_type": "code",
   "execution_count": 27,
   "metadata": {},
   "outputs": [],
   "source": [
    "\n",
    "reddit = praw.Reddit(\n",
    "    client_id=client_id,\n",
    "    client_secret=client_secret,\n",
    "    user_agent=user_agent\n",
    ")"
   ]
  },
  {
   "cell_type": "code",
   "execution_count": 28,
   "metadata": {},
   "outputs": [],
   "source": [
    "def calculate_score(interactions, time_weight):\n",
    "    \"\"\"\n",
    "    Calculate the score of a post based on its interactions and time weight.\n",
    "    \"\"\"\n",
    "    return interactions * time_weight"
   ]
  },
  {
   "cell_type": "code",
   "execution_count": 29,
   "metadata": {},
   "outputs": [],
   "source": [
    "def find_popular_posts(c, threshold, subreddit_name, time_window_hours):\n",
    "    \"\"\"\n",
    "    Find popular posts in a subreddit within a specified time window.\n",
    "    \"\"\"\n",
    "    subreddit = reddit.subreddit(subreddit_name)\n",
    "\n",
    "    if time_window_hours <= 1:\n",
    "        time_filter = 'hour'\n",
    "    elif time_window_hours <= 24:\n",
    "        time_filter = 'day'\n",
    "    elif time_window_hours <= 168:\n",
    "        time_filter = 'week'\n",
    "    elif time_window_hours <= 720:\n",
    "        time_filter = 'month'\n",
    "    else:\n",
    "        time_filter = 'year'\n",
    "\n",
    "    current_time = datetime.now(timezone.utc)\n",
    "    start_time = current_time - timedelta(hours=time_window_hours)\n",
    "\n",
    "    popular_posts = []\n",
    "\n",
    "    for post in subreddit.top(time_filter=time_filter, limit=None):\n",
    "        post_time = datetime.fromtimestamp(post.created_utc, tz=timezone.utc)\n",
    "        if post_time >= start_time:\n",
    "            time_weight = math.ceil((1 - c) ** ((current_time - post_time).total_seconds() / 3600 + 1))\n",
    "            score = calculate_score(post.score, time_weight)\n",
    "            if score >= threshold:\n",
    "                popular_posts.append((post.title, score))\n",
    "\n",
    "    popular_posts.sort(key=lambda x: x[1], reverse=True)\n",
    "    return popular_posts"
   ]
  },
  {
   "cell_type": "code",
   "execution_count": 30,
   "metadata": {
    "tags": [
     "parameters"
    ]
   },
   "outputs": [],
   "source": [
    "c = 1e-6\n",
    "threshold = 10\n",
    "subreddit_name = 'IPL'\n",
    "time_window_hours = 51"
   ]
  },
  {
   "cell_type": "code",
   "execution_count": 31,
   "metadata": {},
   "outputs": [],
   "source": [
    "popular_posts = find_popular_posts(c, threshold, subreddit_name, time_window_hours)"
   ]
  },
  {
   "cell_type": "code",
   "execution_count": 32,
   "metadata": {},
   "outputs": [
    {
     "name": "stdout",
     "output_type": "stream",
     "text": [
      "Popular posts in r/IPL within the last 51 hour(s):\n",
      "1. What a fiery spell from Mayank Yadav. That is some serious pace on debut today. Hope he doesn't fizzle out like Umran Malik - Score: 2316\n",
      "2. Matheesha Pathirana has pulled off one of the catches of the season already vs Delhi! Wow! - Score: 1913\n",
      "3. Ravichandran Ashwin says about hate against Hardik Pandya. - Score: 1053\n",
      "4. Impossible for RCB to win the IPL with this bowling attack' - Michael Vaughan - Score: 923\n",
      "5.  He Still Got It.  37(16)*🔥 - Score: 895\n",
      "6. Move aside The OG king is back..  - Score: 759\n",
      "7. Google has this little easter egg when you search \"How to roast a KKR fan\" - Score: 516\n",
      "8. Accountability : Hardik Pandya - Score: 447\n",
      "9. Banned from a certain sub for this - Score: 439\n",
      "10. Why Chinnaswamy holds ipl matchs when bengluru is facing a water crisis. Since stadiums require a lot of water.  - Score: 365\n",
      "11. Unpopular opinion - Score: 357\n",
      "12. Thala is ❤️ - Score: 345\n",
      "13. Gujarat Titans won by 7 wickets against Sunrisers Hyderabad, D Miller finishes the match with maximum  - Score: 342\n",
      "14. Man beaten to death for cheering for Rohit Sharma's Wicket - Score: 327\n",
      "15. Throwback to the greatest peak achieved by a T20 batsman.  - Score: 295\n",
      "16. punishment for all having blue kit - Score: 290\n",
      "17. crowd cheers when Ms Dhoni enters to bat for the first time in IPL2024 - Score: 281\n",
      "18. Revisiting classic last over finish GT vs SRH - Score: 278\n",
      "19. RCB BECOMES THE FIRST TEAM TO LOSE A HOME MATCH IN IPL 2024...!!!!\n",
      "\n",
      "- KKR HAS BROKEN THE STREAK. - Score: 264\n",
      "20. Found this on internet  - Score: 260\n",
      "21. IPL standards are dropping. - Score: 260\n",
      "22. Bro forgot it was a slow pitch - Score: 229\n",
      "23. Why there is so much hate for Kohli's innings in RCB vs KKR ? - Score: 200\n",
      "24. HE STILL GOT IT!!!! - Score: 195\n",
      "25. Mayank Yadav spell vs PBKS ball by ball Perfect example of PACE and CONTROL - Score: 181\n",
      "26. Which cricketer is a perfect fit for this meme? - Score: 177\n",
      "27. Number of followers across 4 social media platforms (X, Youtube, Instagram & Facebook) \n",
      "\n",
      "Ranking & followers in millions\n",
      "\n",
      "1: CSK - 42.69M\n",
      "2: MI - 40.04M \n",
      "3: RCB - 34.8M\n",
      "4: KKR - 28.96M\n",
      "5: DC - 15.94M\n",
      "6: PBKS - 15.59M\n",
      "7: SRH - 14.07M\n",
      "8: RR -  12.58M\n",
      "9: GT - 6.44M\n",
      "10: LSG - 4.87M - Score: 174\n",
      "28. 🫡🫡 - Score: 167\n",
      "29. Sadly, despite being hospitalized, the elderly fan could not overcome the severity of his injuries and passed away. - Score: 153\n",
      "30. Mayank Yadav 155.8 kph fastest bowler of IPL2024  - Score: 148\n",
      "31. I think the reason RCB gets hate/people enjoy RCB loss is because the team give a teenager boy vibes. - Score: 148\n",
      "32. Interesting! - Score: 132\n",
      "33. Vintage one handed 6's by Ms Dhoni IPL2024 - Score: 125\n",
      "34. Rishabh pant comeback 50 against Chennai super kings in IPL2024 - Score: 118\n",
      "35. English players who withdrew from IPL 2024 - Score: 108\n",
      "36. Worst captain in IPL history... - Score: 99\n",
      "37. RCB is the first team lose a match at their home ground in IPL 2024. - Score: 96\n",
      "38. what do you think? will rinku singh be a good captain? - Score: 96\n",
      "39. ❤️🥹 - Score: 93\n",
      "40. Fastest balls bowled in IPL history, Mayank Yadav enters a legendary list - Score: 90\n",
      "41. The editor of this video predicted future  - Score: 69\n",
      "42. 42 year old MS Dhoni wins the Electric Stricker of Match for his vintage knock against DC [37(16) ] - Score: 63\n",
      "43. virat and albie morkel, what a moment created in IPL  - Score: 59\n",
      "44. When MI vs RCB turned into Rohit Sharma vs Virat Kohli - Score: 58\n",
      "45. Failed - Score: 56\n",
      "46. MAHI MAAR RAHA HAI! 🤩💥 - Score: 56\n",
      "47. Ashish Nehra, The Man Behind GT Success - Score: 55\n",
      "48. Delhi Capitals first victory this season of IPL, won by 20 runs against CSK - Score: 55\n",
      "49. Debutant Mayank yadav took his first wicket of IPL , dismissing Bairstow LSGvPBKS - Score: 50\n",
      "50. BIG BLOW FOR SRH! Who should replace Hasaranga in SRH squad? - Score: 50\n",
      "51. Rcb for a reason - Score: 46\n",
      "52. GT vs. SRH - Score: 45\n",
      "53. Comeback ✅ - Score: 44\n",
      "54. Miss these colours ngl. Teams should have worked with their 08 colours as base.  - Score: 40\n",
      "55. Google has this little easter egg when you search \"How to roast a KKR fan\" - Score: 37\n",
      "56. Its tough times be a RCB fan but its harder to be a PKBS/ KXIP fan - Score: 36\n",
      "57. This is business 💼 - Score: 35\n",
      "58. Rashid goes past Shami! - Score: 35\n",
      "59. Pandya without Nehra - Score: 34\n",
      "60. GALLERY | MS Dhoni 37* (16) vs DC, Match 13 | IPL 2024 - Score: 34\n",
      "61. WHAT A CATCH - Score: 30\n",
      "62. Real reason behind DC’s win tonight - Score: 28\n",
      "63. David Willey has opted out of IPL 2024 due to personal reasons and Matt Henry replaces him - Score: 27\n",
      "64. Good i changed my team from pbks to srh.lmao how did they lost that - Score: 25\n",
      "65. News: the punjab agent has been found - Score: 24\n",
      "66. RCB remains the only home team to lose a match in IPL 2024. - Score: 24\n",
      "67. Can we get Home and Away Jersey concept in IPL ?? - Score: 23\n",
      "68. What a debut performance! New kid in the block - Score: 23\n",
      "69. Thalaverse  - Score: 23\n",
      "70. Haryanvi commentary in IPL 2024 by Rj Kisna during RRvDC - Score: 22\n",
      "71. Pathirana rattling stumps twice in an over  - Score: 22\n",
      "72. MCA will follow the BCCI guidelines on crowd behaviour - Score: 22\n",
      "73. Sunil Narine's affinity for playing against RCB was evident as he clinched his fourth Player of the Match award last night in the IPL. - Score: 21\n",
      "74. Why Shaw is not playing? What’s wrong? - Score: 20\n",
      "75. The yadav we need.  - Score: 18\n",
      "76. One more season please thala. You've aged like wine  - Score: 18\n",
      "77. Mayank yadav! - Score: 17\n",
      "78. Mayank Yadav (LSG) - Score: 16\n",
      "79. Top 5 oldest players to feature in IPL - Score: 16\n",
      "80. DC beats CSK by 20 runs, 1st win for DC, and 1st loss for CSK in IPL 2024. Match -13, DC vs CSK, IPL 2024 - Score: 15\n",
      "81. Match Thread: 13th Match - Delhi Capitals vs Chennai Super Kings - Score: 14\n",
      "82. Who is your favorite oversea among these icons? - Score: 13\n",
      "83. Mayank Yadav Stars In LSG's First Win of the season! - Score: 13\n",
      "84. The home crowd supporting their favourite son🔥 You'll never walk alone Rishabh Pant👏 - Score: 13\n",
      "85. Jio cinema sucks  - Score: 11\n",
      "86. RIZZZ GOT RIZZZED - Score: 11\n",
      "87. Rishabh Pant  - Score: 11\n",
      "88. MS Dhoni becomes the first wicket-keeper to have 300 dismissals in T20s  - Score: 11\n",
      "89. Lucknow super giants won by 21 runs against Punjab Kings IPL2024 - Score: 11\n",
      "90. THALA FOR A REASON! - Score: 11\n"
     ]
    }
   ],
   "source": [
    "print(f\"Popular posts in r/{subreddit_name} within the last {time_window_hours} hour(s):\")\n",
    "for i, (title, score) in enumerate(popular_posts, start=1):\n",
    "    print(f\"{i}. {title} - Score: {score}\")"
   ]
  }
 ],
 "metadata": {
  "kernelspec": {
   "display_name": "BDA",
   "language": "python",
   "name": "python3"
  },
  "language_info": {
   "codemirror_mode": {
    "name": "ipython",
    "version": 3
   },
   "file_extension": ".py",
   "mimetype": "text/x-python",
   "name": "python",
   "nbconvert_exporter": "python",
   "pygments_lexer": "ipython3",
   "version": "3.10.2"
  }
 },
 "nbformat": 4,
 "nbformat_minor": 2
}
