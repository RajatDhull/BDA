{
 "cells": [
  {
   "cell_type": "code",
   "execution_count": 8,
   "metadata": {},
   "outputs": [],
   "source": [
    "import requests\n",
    "from bs4 import BeautifulSoup\n",
    "import random"
   ]
  },
  {
   "cell_type": "code",
   "execution_count": 9,
   "metadata": {},
   "outputs": [],
   "source": [
    "class DGIM:\n",
    "    def __init__(self, window_size):\n",
    "        self.window_size = window_size\n",
    "        self.buckets = []\n",
    "\n",
    "    def add(self, item):\n",
    "        if item == 1:\n",
    "            self.buckets.append(1)\n",
    "            self._cleanup()\n",
    "        else:\n",
    "            self.buckets.append(0)\n",
    "\n",
    "    def _cleanup(self):\n",
    "        while len(self.buckets) > self.window_size:\n",
    "            self.buckets.pop(0)\n",
    "            self.buckets.pop(0)\n",
    "            self.buckets.append(1)\n",
    "\n",
    "    def query(self, k):\n",
    "        count = 0\n",
    "        for i in range(len(self.buckets) - 1, -1, -1):\n",
    "            if self.buckets[i] == 1:\n",
    "                count += 1\n",
    "            if count >= k:\n",
    "                return 2**i - (len(self.buckets) - i - 1)\n",
    "        return count"
   ]
  },
  {
   "cell_type": "code",
   "execution_count": 10,
   "metadata": {},
   "outputs": [],
   "source": [
    "headers = {}\n",
    "product_ratings = []\n",
    "dgim = DGIM(window_size=20)"
   ]
  },
  {
   "cell_type": "code",
   "execution_count": 11,
   "metadata": {},
   "outputs": [],
   "source": [
    "for i in range(1, 44):\n",
    "    url = \"https://www.flipkart.com/google-pixel-7-lemongrass-128-gb/product-reviews/itm45d75002be0e7?pid=MOBGHW44ZSN5EPGU&lid=LSTMOBGHW44ZSN5EPGURSVVHV&aid=overall&certifiedBuyer=false&sortOrder=MOST_RECENT&page=\" + str(i)\n",
    "\n",
    "    page = requests.get(url, headers=headers)\n",
    "    soup = BeautifulSoup(page.content, 'html.parser')\n",
    "    rat = soup.find_all('div', class_='_3LWZlK _1BLPMq')\n",
    "    for r in rat:\n",
    "        rating = r.get_text()\n",
    "        if rating and rating.isdigit():\n",
    "            rating = int(rating)\n",
    "        else:\n",
    "            rating = 0\n",
    "\n",
    "        product_ratings.append(1 if rating > 3 else 0)"
   ]
  },
  {
   "cell_type": "code",
   "execution_count": 12,
   "metadata": {},
   "outputs": [],
   "source": [
    "for item in product_ratings:\n",
    "    dgim.add(item)"
   ]
  },
  {
   "cell_type": "code",
   "execution_count": 13,
   "metadata": {},
   "outputs": [],
   "source": [
    "NUM_QUERIES = 5"
   ]
  },
  {
   "cell_type": "code",
   "execution_count": 14,
   "metadata": {},
   "outputs": [
    {
     "name": "stdout",
     "output_type": "stream",
     "text": [
      "Query for recent 13 buckets: 116\n",
      "Query for recent 9 buckets: 2040\n",
      "Query for recent 5 buckets: 32764\n",
      "Query for recent 15 buckets: 18\n",
      "Query for recent 6 buckets: 16379\n"
     ]
    }
   ],
   "source": [
    "for i in range(NUM_QUERIES):\n",
    "    q = random.randrange(len(dgim.buckets))\n",
    "    print(f\"Query for recent {q} buckets: {dgim.query(q)}\")"
   ]
  }
 ],
 "metadata": {
  "kernelspec": {
   "display_name": "Python 3",
   "language": "python",
   "name": "python3"
  },
  "language_info": {
   "codemirror_mode": {
    "name": "ipython",
    "version": 3
   },
   "file_extension": ".py",
   "mimetype": "text/x-python",
   "name": "python",
   "nbconvert_exporter": "python",
   "pygments_lexer": "ipython3",
   "version": "3.10.2"
  }
 },
 "nbformat": 4,
 "nbformat_minor": 2
}
