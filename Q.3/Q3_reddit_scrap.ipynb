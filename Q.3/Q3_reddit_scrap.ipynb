{
 "cells": [
  {
   "cell_type": "code",
   "execution_count": 57,
   "metadata": {},
   "outputs": [],
   "source": [
    "import praw\n",
    "\n",
    "client_secret=\"5LSSWHnkHVM5-BIkxpgYlu8fKIqnzw\"\n",
    "client_id = \"e8O8uDpRkFbES6y2ZA9XwQ\"\n",
    "\n",
    "user_agent = \"My Big Data Project\"\n",
    "\n",
    "reddit = praw.Reddit(\n",
    "    client_id=client_id,\n",
    "    client_secret=client_secret,\n",
    "    user_agent=user_agent\n",
    ")"
   ]
  },
  {
   "cell_type": "code",
   "execution_count": 58,
   "metadata": {},
   "outputs": [],
   "source": [
    "def search_reddit(keyword, num_posts=10):\n",
    "    subreddit = reddit.subreddit(keyword)\n",
    "\n",
    "    # Get the top hot messages \n",
    "    messages = subreddit.hot(limit=num_posts)\n",
    "\n",
    "    data = []\n",
    "\n",
    "    # Loop through each message and access its data \n",
    "    for message in messages:\n",
    "        data.append(message.title)\n",
    "    \n",
    "    return data\n"
   ]
  },
  {
   "cell_type": "code",
   "execution_count": 59,
   "metadata": {},
   "outputs": [
    {
     "name": "stdout",
     "output_type": "stream",
     "text": [
      "Word :  india\n",
      "Data :  ['Ask India Thread', 'Mental & Emotional Health Support Thread', \"'98% of Currency Came Back, So Where Was Black Money Eradication?': Supreme Court Justice BV Nagarathna on Demonetisation\", 'American Sikhs in California vote on independence from India', \"Over 770 kg of explosives seized from local RSS leader's home in Kerala weeks before polls\", 'First Rs.20 coin of India', \"Help me get out of scarcity mindset, it's taking a toll\", 'Magunta Reddy, whose son turned approver in excise case against Kejriwal, gets ticket from BJP ally TDP', 'Where do you see the country going after Modi is gone? ', 'Uttar Pradesh: People in large numbers take part in the funeral procession of gangster-turned-politician Mukhtar Ansari in Mohammadabad, Ghazipur']\n",
      "\n",
      "Word :  ipl\n",
      "Data :  [\"🚀 IPL 2024: Dive Into Our Live Chat for Instant Updates & Inside Scoops on Every Match, Team, and Player! 💬🔥 Don't Miss Out!\", 'Match Thread: 10th Match - Royal Challengers Bengaluru vs Kolkata Knight Riders', \"Impossible for RCB to win the IPL with this bowling attack' - Michael Vaughan\", 'Throwback to the greatest peak achieved by a T20 batsman. ', 'I think the reason RCB gets hate/people enjoy RCB loss is because the team give a teenager boy vibes.', \"Why there is so much hate for Kohli's innings in RCB vs KKR ?\", 'Why Chinnaswamy holds ipl matchs when bengluru is facing a water crisis. Since stadiums require a lot of water. ', 'Move aside The OG king is back.. ', 'RCB BECOMES THE FIRST TEAM TO LOSE A HOME MATCH IN IPL 2024...!!!!\\n\\n- KKR HAS BROKEN THE STREAK.', 'Unpopular opinion']\n",
      "\n",
      "Word :  space\n",
      "Data :  ['All Space Questions thread for week of March 24, 2024', 'I have come to the realization that there are literally millions of people who think they’ve seen a total solar eclipse, but actually only saw a 95-99.9% partial eclipse ', 'If NASA had access to unlimited resources and money, what would they do?', 'James Webb Space Telescope Snaps Its First Image of a Protoplanetary Disk', 'Niagara region declares state of emergency ahead of April 8 solar eclipse', 'Space station detectors spot the source of weird ‘blue jet’ lightning', 'Gravitational waves may have made human life possible', 'NASA’s New Asteroid Sample Is Already Rewriting Solar System History', 'Nature: Orbital Reef and commercial low Earth orbit destinations—upcoming space research opportunities', 'Need some advice!!']\n",
      "\n",
      "Word :  sleep\n",
      "Data :  ['Essential Sleep Habits', 'Wake up at 5am no matter what I do', 'Does working out make you yawn?', 'How to stay awake all day to fix sleeping schedule??', 'Advice about using a sleeping pill to sleep way earlier.', 'Help', 'Tips para makatulog?', 'How do I prevent myself from sleeping on my back?', 'Why am I so grumpy when I wake up?', 'How do I stay consistent in getting 8 hours of sleep per day?']\n",
      "\n",
      "Word :  earth\n",
      "Data :  ['The Official Discord Server of r/Earth!', 'Mercy me: Photos show what humans have done to the planet in the Anthropocene age', 'Earth is spinning faster than it used to. Clocks might have to skip a second to keep up.', 'Started a YouTube Channel', \"Witness the Devil's Comet\", 'Tarantula tending to her pet Frogs.', 'Freetalk Friday -- Open thread for Non - Earth discussion', 'Logic Makes No Sense', 'trapped in a hell of our own creation', 'What’s on Top of Mt. Everest?? — The Mt. Everest Summit']\n",
      "\n"
     ]
    }
   ],
   "source": [
    "#Scrapping for keywords\n",
    "keywords = [\"india\",\"ipl\", \"space\", \"sleep\", \"earth\"]\n",
    "\n",
    "#for each keyword scrapping the top 10 reddits of current time\n",
    "\n",
    "all_word_data = []\n",
    "\n",
    "for word in keywords :\n",
    "    scrap_data = search_reddit(word, 10)\n",
    "    all_word_data.append(scrap_data)\n",
    "    print(\"Word : \", word)\n",
    "    print(\"Data : \",  scrap_data)\n",
    "    print()"
   ]
  },
  {
   "cell_type": "code",
   "execution_count": 60,
   "metadata": {},
   "outputs": [],
   "source": [
    "import spacy\n",
    "import numpy as np\n",
    "import pandas as pd\n",
    "import warnings \n",
    "warnings.filterwarnings('ignore')"
   ]
  },
  {
   "cell_type": "code",
   "execution_count": 61,
   "metadata": {},
   "outputs": [],
   "source": [
    "# Load the pre-trained English language model with medium-sized word vectors\n",
    "nlp = spacy.load(\"en_core_web_md\")"
   ]
  },
  {
   "cell_type": "code",
   "execution_count": 62,
   "metadata": {},
   "outputs": [],
   "source": [
    "def reddit_to_vector(reddit):\n",
    "    # Process the email with spaCy\n",
    "    doc = nlp(reddit)\n",
    "\n",
    "    # Extract word vectors and calculate the average vector\n",
    "    word_vectors = [token.vector for token in doc if token.has_vector]\n",
    "    \n",
    "    if word_vectors:\n",
    "        avg_vector = np.mean(word_vectors, axis=0)\n",
    "        return avg_vector\n",
    "    else:\n",
    "        # If no word vectors are found, return a zero vector\n",
    "        return np.zeros(nlp.vocab.vectors.shape[1])"
   ]
  },
  {
   "cell_type": "code",
   "execution_count": 63,
   "metadata": {},
   "outputs": [],
   "source": [
    "def process_reddits(data):\n",
    "    vectors = []\n",
    "    labels = []\n",
    "\n",
    "    for reddit in data :\n",
    "        reddit = str(reddit)\n",
    "        vector = reddit_to_vector(reddit)\n",
    "        \n",
    "        vectors.append(vector)\n",
    "    \n",
    "    return np.array(vectors)"
   ]
  },
  {
   "cell_type": "code",
   "execution_count": 64,
   "metadata": {},
   "outputs": [],
   "source": [
    "#convert each reddit into vector form :- \n",
    "all_word_processed_data = []\n",
    "for single_word_data in all_word_data :\n",
    "    processed_data = process_reddits(single_word_data)\n",
    "    all_word_processed_data.append(processed_data)"
   ]
  },
  {
   "cell_type": "code",
   "execution_count": 65,
   "metadata": {},
   "outputs": [],
   "source": [
    "import numpy as np\n",
    "from sklearn.cluster import KMeans\n",
    "from sklearn.metrics.pairwise import cosine_similarity"
   ]
  },
  {
   "cell_type": "code",
   "execution_count": 71,
   "metadata": {},
   "outputs": [],
   "source": [
    "num_clusters = 2\n",
    "\n",
    "kmeans = KMeans(n_clusters=num_clusters)"
   ]
  },
  {
   "cell_type": "code",
   "execution_count": 72,
   "metadata": {},
   "outputs": [
    {
     "name": "stdout",
     "output_type": "stream",
     "text": [
      "[1 1 0 0 0 0 0 0 0 0]\n",
      "[1 1 0 0 0 0 0 0 1 0]\n",
      "[0 1 1 0 0 0 1 0 0 1]\n",
      "[0 1 1 1 1 0 0 1 1 1]\n",
      "[0 1 1 0 1 1 0 0 1 0]\n"
     ]
    }
   ],
   "source": [
    "#making cluster for each word\n",
    "for data in all_word_processed_data :\n",
    "    distance_matrix = 1 - cosine_similarity(data)\n",
    "    kmeans.fit(distance_matrix)\n",
    "    cluster_labels = kmeans.labels_\n",
    "    print(cluster_labels)"
   ]
  },
  {
   "cell_type": "code",
   "execution_count": null,
   "metadata": {},
   "outputs": [],
   "source": []
  },
  {
   "cell_type": "code",
   "execution_count": null,
   "metadata": {},
   "outputs": [],
   "source": []
  }
 ],
 "metadata": {
  "kernelspec": {
   "display_name": "Python 3",
   "language": "python",
   "name": "python3"
  },
  "language_info": {
   "codemirror_mode": {
    "name": "ipython",
    "version": 3
   },
   "file_extension": ".py",
   "mimetype": "text/x-python",
   "name": "python",
   "nbconvert_exporter": "python",
   "pygments_lexer": "ipython3",
   "version": "3.10.2"
  }
 },
 "nbformat": 4,
 "nbformat_minor": 2
}
