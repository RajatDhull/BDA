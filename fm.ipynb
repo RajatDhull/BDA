{
 "cells": [
  {
   "cell_type": "code",
   "execution_count": 1,
   "metadata": {},
   "outputs": [
    {
     "name": "stderr",
     "output_type": "stream",
     "text": [
      "C:\\Users\\hp\\AppData\\Local\\Temp\\ipykernel_15660\\4175306018.py:1: DeprecationWarning: \n",
      "Pyarrow will become a required dependency of pandas in the next major release of pandas (pandas 3.0),\n",
      "(to allow more performant data types, such as the Arrow string type, and better interoperability with other libraries)\n",
      "but was not found to be installed on your system.\n",
      "If this would cause problems for you,\n",
      "please provide us feedback at https://github.com/pandas-dev/pandas/issues/54466\n",
      "        \n",
      "  import pandas as pd\n"
     ]
    },
    {
     "name": "stdout",
     "output_type": "stream",
     "text": [
      "<class 'pandas.core.frame.DataFrame'>\n",
      "RangeIndex: 1048575 entries, 0 to 1048574\n",
      "Data columns (total 15 columns):\n",
      " #   Column     Non-Null Count    Dtype  \n",
      "---  ------     --------------    -----  \n",
      " 0   StartTime  1048575 non-null  object \n",
      " 1   Dur        1048575 non-null  float64\n",
      " 2   Proto      1048575 non-null  object \n",
      " 3   SrcAddr    1048575 non-null  object \n",
      " 4   Sport      1045071 non-null  object \n",
      " 5   Dir        1048575 non-null  object \n",
      " 6   DstAddr    1048575 non-null  object \n",
      " 7   Dport      1047045 non-null  object \n",
      " 8   State      1048574 non-null  object \n",
      " 9   sTos       1044578 non-null  float64\n",
      " 10  dTos       970370 non-null   float64\n",
      " 11  TotPkts    1048575 non-null  int64  \n",
      " 12  TotBytes   1048575 non-null  int64  \n",
      " 13  SrcBytes   1048575 non-null  int64  \n",
      " 14  Label      1048575 non-null  object \n",
      "dtypes: float64(3), int64(3), object(9)\n",
      "memory usage: 120.0+ MB\n"
     ]
    }
   ],
   "source": [
    "import pandas as pd\n",
    "import numpy as np \n",
    "\n",
    "df = pd.read_csv('network.csv')\n",
    "df.info()"
   ]
  },
  {
   "cell_type": "code",
   "execution_count": 2,
   "metadata": {},
   "outputs": [],
   "source": [
    "# Extracting data related to source and destination IP addresses\n",
    "source_dest_data = df[['SrcAddr', 'DstAddr']]"
   ]
  },
  {
   "cell_type": "code",
   "execution_count": 7,
   "metadata": {},
   "outputs": [],
   "source": [
    "import mmh3  # MurmurHash3 hash function\n",
    "\n",
    "window_size = 1000000\n",
    "hash_function = lambda x : mmh3.hash(str(x), seed=0)"
   ]
  },
  {
   "cell_type": "code",
   "execution_count": 8,
   "metadata": {},
   "outputs": [
    {
     "name": "stdout",
     "output_type": "stream",
     "text": [
      "Window 1-1000000: Distinct Counts - 1048576\n",
      "Window 2-1000001: Distinct Counts - 1048576\n",
      "Window 3-1000002: Distinct Counts - 1048576\n",
      "Window 4-1000003: Distinct Counts - 1048576\n",
      "Window 5-1000004: Distinct Counts - 1048576\n",
      "Window 6-1000005: Distinct Counts - 1048576\n",
      "Window 7-1000006: Distinct Counts - 1048576\n",
      "Window 8-1000007: Distinct Counts - 1048576\n",
      "Window 9-1000008: Distinct Counts - 1048576\n",
      "Window 10-1000009: Distinct Counts - 1048576\n",
      "Window 11-1000010: Distinct Counts - 1048576\n",
      "Window 12-1000011: Distinct Counts - 1048576\n",
      "Window 13-1000012: Distinct Counts - 1048576\n",
      "Window 14-1000013: Distinct Counts - 1048576\n",
      "Window 15-1000014: Distinct Counts - 1048576\n",
      "Window 16-1000015: Distinct Counts - 1048576\n",
      "Window 17-1000016: Distinct Counts - 1048576\n",
      "Window 18-1000017: Distinct Counts - 1048576\n",
      "Window 19-1000018: Distinct Counts - 1048576\n",
      "Window 20-1000019: Distinct Counts - 1048576\n"
     ]
    }
   ],
   "source": [
    "def find_trailing_zeroes(element):\n",
    "    hash_value = hash_function(element)\n",
    "    hash_value = abs(hash_value)%(1000000000)\n",
    "    # print(hash_value)\n",
    "    binary = bin(hash_value)[2:]\n",
    "\n",
    "    # Count the number of trailing zeros\n",
    "    trailing_zeroes = len(binary) - len(binary.rstrip('0'))\n",
    "    return trailing_zeroes\n",
    "\n",
    "for i in range(0, min(20,len(source_dest_data['SrcAddr']) - window_size + 1)):\n",
    "    window = source_dest_data['SrcAddr'][i:i+window_size]\n",
    "    R = 0\n",
    "    for element in window:\n",
    "        r = find_trailing_zeroes(element)\n",
    "        # print(\"r\", r)\n",
    "        R = max(r, R)\n",
    "    \n",
    "    # print(R)\n",
    "    distinct_counts = pow(2, R)\n",
    "    \n",
    "\n",
    "    print(f\"Window {i+1}-{i+window_size}: Distinct Counts - {distinct_counts}\")"
   ]
  },
  {
   "cell_type": "code",
   "execution_count": null,
   "metadata": {},
   "outputs": [],
   "source": []
  },
  {
   "cell_type": "code",
   "execution_count": null,
   "metadata": {},
   "outputs": [],
   "source": []
  }
 ],
 "metadata": {
  "kernelspec": {
   "display_name": "Python 3",
   "language": "python",
   "name": "python3"
  },
  "language_info": {
   "codemirror_mode": {
    "name": "ipython",
    "version": 3
   },
   "file_extension": ".py",
   "mimetype": "text/x-python",
   "name": "python",
   "nbconvert_exporter": "python",
   "pygments_lexer": "ipython3",
   "version": "3.10.2"
  }
 },
 "nbformat": 4,
 "nbformat_minor": 2
}
